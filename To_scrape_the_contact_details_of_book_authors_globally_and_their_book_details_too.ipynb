{
  "cells": [
    {
      "cell_type": "markdown",
      "metadata": {
        "id": "view-in-github",
        "colab_type": "text"
      },
      "source": [
        "<a href=\"https://colab.research.google.com/github/jhagopal/AboutMeSite/blob/main/To_scrape_the_contact_details_of_book_authors_globally_and_their_book_details_too.ipynb\" target=\"_parent\"><img src=\"https://colab.research.google.com/assets/colab-badge.svg\" alt=\"Open In Colab\"/></a>"
      ]
    },
    {
      "cell_type": "markdown",
      "source": [
        "I've gathered book information and availability data from the \"books.toscrape\" website, using the Beautiful Soup library. Additionally, I've created a Python script to display content from multiple pages of the website."
      ],
      "metadata": {
        "id": "OkbWMSBdM7KT"
      }
    },
    {
      "cell_type": "code",
      "source": [
        "import requests\n",
        "from bs4 import BeautifulSoup\n",
        "import csv\n",
        "import pandas as pd\n",
        "import os\n",
        "\n",
        "URL = 'https://books.toscrape.com/'\n",
        "response = requests.get(URL)\n",
        "\n",
        "page_contents = response.text\n",
        "\n",
        "with open('Bookswebpage.html','w') as f:\n",
        "    f.write(page_contents)\n",
        "\n",
        "from bs4 import BeautifulSoup\n",
        "doc = BeautifulSoup(page_contents,'html.parser')\n",
        "\n",
        "def get_book_titles(doc):\n",
        "    Book_title_tags = doc.find_all('h3')\n",
        "    Book_titles = []\n",
        "    for tags in Book_title_tags:\n",
        "        Book_titles.append(tags.text)\n",
        "    return Book_titles\n",
        "\n",
        "def get_book_price(doc):\n",
        "    Book_price_tags = doc.find_all('p', class_ = 'price_color')\n",
        "    Book_price = []\n",
        "    for tags in Book_price_tags:\n",
        "        Book_price.append(tags.text.replace('Â',''))\n",
        "    return Book_price\n",
        "\n",
        "def get_stock_availability(doc):\n",
        "    Book_stock_tags = doc.find_all('p', class_ = 'instock availability')\n",
        "    Book_stock = []\n",
        "    for tags in Book_stock_tags:\n",
        "        Book_stock.append(tags.text.strip())\n",
        "    return Book_stock\n",
        "\n",
        "def get_book_url(Book_title_tags):\n",
        "    Book_url = []\n",
        "    for article in Book_title_tags:\n",
        "        for link in article.find_all('a', href = True):\n",
        "            url = link['href']\n",
        "            links = 'https://books.toscrape.com/' + url\n",
        "            if links not in Book_url:\n",
        "                Book_url.append(links)\n",
        "    return Book_url\n",
        "\n",
        "def get_doc(url):\n",
        "    response = requests.get(url)\n",
        "    doc = BeautifulSoup(response.text,'html.parser')\n",
        "    if response.status_code != 200:\n",
        "        raise Exception('Failed to load page {}'.format(response))\n",
        "    return doc\n",
        "\n",
        "def scrape_multiple_pages(n):\n",
        "    URL = 'https://books.toscrape.com/catalogue/page-'\n",
        "    titles,prices,stocks_availability,urls = [],[],[],[]\n",
        "\n",
        "    for page in range(1,n+1):\n",
        "        doc = get_doc(URL + str(page)+ '.html')\n",
        "        titles.extend(get_book_titles(doc))\n",
        "        prices.extend(get_book_price(doc))\n",
        "        stocks_availability.extend(get_stock_availability(doc))\n",
        "        urls.extend(get_book_url(doc.find_all('h3')))\n",
        "\n",
        "    book_dict1 = {\n",
        "                'TITLE':titles,\n",
        "                'PRICE':prices,\n",
        "                'STOCK AVAILABILTY':stocks_availability,\n",
        "                'URL':urls}\n",
        "    return pd.DataFrame(book_dict1)\n",
        "\n",
        "scrape_multiple_pages(5).to_csv('SCB.csv',index = None)"
      ],
      "metadata": {
        "id": "tqm_z7fYMeRy"
      },
      "execution_count": 2,
      "outputs": []
    },
    {
      "cell_type": "markdown",
      "source": [
        "\n",
        "I have collected information, including contact details, about authors from a Medium page using the Python script provided below."
      ],
      "metadata": {
        "id": "MGPyIuy7LI6h"
      }
    },
    {
      "cell_type": "markdown",
      "source": [],
      "metadata": {
        "id": "HNgAuzngM5Vs"
      }
    },
    {
      "cell_type": "code",
      "source": [
        "import json\n",
        "import requests\n",
        "from bs4 import BeautifulSoup\n",
        "\n",
        "url = \"https://medium.com/javascript-scene/top-javascript-frameworks-and-topics-to-learn-in-2019-b4142f38df20\"\n",
        "soup = BeautifulSoup(requests.get(url).content, \"html.parser\")\n",
        "data = json.loads(soup.select_one('[type=\"application/ld+json\"]').contents[0])\n",
        "\n",
        "# uncomment this to print all LD+JSON data:\n",
        "# print(json.dumps(data, indent=4))\n",
        "\n",
        "print(\"Author:\", data[\"author\"][\"name\"])\n",
        "print(\"URL:\", data[\"author\"][\"url\"])"
      ],
      "metadata": {
        "colab": {
          "base_uri": "https://localhost:8080/"
        },
        "id": "YPIoZK7rClQo",
        "outputId": "8d5f023c-28fe-4955-daec-6aac96d8c55a"
      },
      "execution_count": null,
      "outputs": [
        {
          "output_type": "stream",
          "name": "stdout",
          "text": [
            "Author: Eric Elliott\n",
            "URL: https://medium.com/@_ericelliott\n"
          ]
        }
      ]
    },
    {
      "cell_type": "markdown",
      "source": [
        "I've obtained contact details for authors from Google Scholar using the Beautiful Soup library."
      ],
      "metadata": {
        "id": "k9vWD03GLnPS"
      }
    },
    {
      "cell_type": "code",
      "source": [
        "from bs4 import BeautifulSoup\n",
        "import requests, lxml, os\n",
        "\n",
        "headers = {\n",
        "    'User-agent':\n",
        "    \"Mozilla/5.0 (Windows NT 10.0; Win64; x64) AppleWebKit/537.36 (KHTML, like Gecko) Chrome/70.0.3538.102 Safari/537.36 Edge/18.19582\"\n",
        "}\n",
        "\n",
        "proxies = {\n",
        "  'http': os.getenv('HTTP_PROXY')\n",
        "}\n",
        "\n",
        "html = requests.get('https://scholar.google.com/citations?view_op=view_org&hl=en&org=9834965952280547731', headers=headers, proxies=proxies).text\n",
        "soup = BeautifulSoup(html, 'lxml')\n",
        "\n",
        "for result in soup.select('.gs_ai_chpr'):\n",
        "  name = result.select_one('.gs_ai_name a').text\n",
        "  link = result.select_one('.gs_ai_name a')['href']\n",
        "  _id = link\n",
        "  id_identifer = 'user='\n",
        "  before_keyword, keyword, after_keyword = _id.partition(id_identifer)\n",
        "  author_id = after_keyword\n",
        "  affiliations = result.select_one('.gs_ai_aff').text\n",
        "  email = result.select_one('.gs_ai_eml').text\n",
        "\n",
        "  try:\n",
        "    interests = result.select_one('.gs_ai_one_int').text\n",
        "  except:\n",
        "    interests = None\n",
        "\n",
        "  cited_by = result.select_one('.gs_ai_cby').text.split(' ')[2]\n",
        "\n",
        "\n",
        "  print(f'{name}\\nhttps://scholar.google.com{link}\\n{author_id}\\n{affiliations}\\n{email}\\n{interests}\\n{cited_by}\\n')"
      ],
      "metadata": {
        "colab": {
          "base_uri": "https://localhost:8080/"
        },
        "id": "JegeeuSvD-4V",
        "outputId": "3750822d-c796-4cf6-925c-e84a4b2d1428"
      },
      "execution_count": null,
      "outputs": [
        {
          "output_type": "stream",
          "name": "stdout",
          "text": [
            "Young Jun Park\n",
            "https://scholar.google.com/citations?hl=en&user=RlANTZEAAAAJ\n",
            "RlANTZEAAAAJ\n",
            "Samsung Research, Samsung Electronics\n",
            "Verified email at samsung.com\n",
            "None\n",
            "35262\n",
            "\n",
            "Jang-hwan Kim\n",
            "https://scholar.google.com/citations?hl=en&user=SozQwVQAAAAJ\n",
            "SozQwVQAAAAJ\n",
            "Samsung Electronics\n",
            "Verified email at samsung.com\n",
            "Power Electronics\n",
            "33580\n",
            "\n",
            "Jeong-Won Lee\n",
            "https://scholar.google.com/citations?hl=en&user=D41VK7AAAAAJ\n",
            "D41VK7AAAAAJ\n",
            "Samsung Medical Center\n",
            "Verified email at samsung.com\n",
            "Gynecologic oncology\n",
            "27924\n",
            "\n",
            "Oh Young Bang\n",
            "https://scholar.google.com/citations?hl=en&user=c9ji0m4AAAAJ\n",
            "c9ji0m4AAAAJ\n",
            "Professor of Neurology, Samsung Medical Center\n",
            "Verified email at samsung.com\n",
            "Stroke\n",
            "27459\n",
            "\n",
            "Eugene Chen\n",
            "https://scholar.google.com/citations?hl=en&user=7PD1n38AAAAJ\n",
            "7PD1n38AAAAJ\n",
            "Samsung, Grandis, Cypress Semiconductor, Motorola, NVE\n",
            "Verified email at samsung.com\n",
            "MRAM\n",
            "27372\n",
            "\n",
            "Jianzhong (Charlie) Zhang\n",
            "https://scholar.google.com/citations?hl=en&user=FWVZxvUAAAAJ\n",
            "FWVZxvUAAAAJ\n",
            "Samsung\n",
            "Verified email at samsung.com\n",
            "5G\n",
            "25210\n",
            "\n",
            "Tom Palczewski\n",
            "https://scholar.google.com/citations?hl=en&user=v5PUqKkAAAAJ\n",
            "v5PUqKkAAAAJ\n",
            "Staff Data Scientist @ Samsung Research America\n",
            "Verified email at samsung.com\n",
            "AI\n",
            "23945\n",
            "\n",
            "Sunghyun Choi, Ph.D., FIEEE\n",
            "https://scholar.google.com/citations?hl=en&user=gd23c7MAAAAJ\n",
            "gd23c7MAAAAJ\n",
            "Executive VP, Samsung Electronics\n",
            "Verified email at samsung.com\n",
            "Wireless networking\n",
            "18299\n",
            "\n",
            "Du Tran\n",
            "https://scholar.google.com/citations?hl=en&user=3TVbh8QAAAAJ\n",
            "3TVbh8QAAAAJ\n",
            "Samsung Research America\n",
            "Verified email at samsung.com\n",
            "Computer Vision\n",
            "17622\n",
            "\n",
            "Rak-Hwan Kim\n",
            "https://scholar.google.com/citations?hl=en&user=SkGTpKUAAAAJ\n",
            "SkGTpKUAAAAJ\n",
            "Samsung Electronics\n",
            "Verified email at samsung.com\n",
            "Solid State Electronic Devices\n",
            "13449\n",
            "\n"
          ]
        }
      ]
    },
    {
      "cell_type": "markdown",
      "source": [
        "I attempted to retrieve contact information for co-authors on Google Scholar by utilizing the author's ID and the SerpApi."
      ],
      "metadata": {
        "id": "EXuqkba4L7_S"
      }
    },
    {
      "cell_type": "code",
      "source": [
        "import requests\n",
        "\n",
        "# Replace with your SerpApi API key\n",
        "api_key = \"Your API Key\"\n",
        "\n",
        "# Define the parameters\n",
        "params = {\n",
        "    \"engine\": \"google_scholar_author\",\n",
        "    \"hl\": \"en\",\n",
        "    \"author_id\": \"m8dFEawAAAAJ\",\n",
        "    \"view_op\": \"list_colleagues\",\n",
        "}\n",
        "\n",
        "# Define the base URL for the SerpApi endpoint\n",
        "base_url = \"https://serpapi.com/search\"\n",
        "\n",
        "# Include the API key in the parameters\n",
        "params[\"api_key\"] = api_key\n",
        "\n",
        "# Send an HTTP GET request to the SerpApi endpoint\n",
        "response = requests.get(base_url, params=params)\n",
        "\n",
        "# Check if the request was successful\n",
        "if response.status_code == 200:\n",
        "    # Parse the JSON response\n",
        "    data = response.json()\n",
        "\n",
        "    # Extract the co-authors' names\n",
        "    co_authors = data.get(\"co_authors\", [])\n",
        "    co_author_names = [author.get(\"name\", \"\") for author in co_authors]\n",
        "\n",
        "    # Print the co-authors' names\n",
        "    for name in co_author_names:\n",
        "        print(name)\n",
        "\n",
        "else:\n",
        "    print(f\"Error: Unable to fetch data. Status code: {response.status_code}\")"
      ],
      "metadata": {
        "colab": {
          "base_uri": "https://localhost:8080/"
        },
        "id": "qch-1LOMH7jB",
        "outputId": "4159bb65-b568-4b2e-e229-07dda3e6465e"
      },
      "execution_count": null,
      "outputs": [
        {
          "output_type": "stream",
          "name": "stdout",
          "text": [
            "Christoph Benzmüller\n",
            "Joachim Zahnentferner\n",
            "Pascal Fontaine\n",
            "Stephan Merz\n",
            "Tomer Libal\n",
            "David Deharbe\n",
            "Giselle Reis\n",
            "Joseph Boudou\n",
            "John Slaney\n",
            "Dale Miller\n",
            "Mikheil Rukhaia\n",
            "Martin Riener\n",
            "Leon Weber-Genzel\n",
            "Jan Gorzny\n",
            "Dmytro Kaidalov\n",
            "James Chapman\n",
            "Philip Wadler\n",
            "Michael Peyton Jones\n",
            "Manuel MT Chakravarty\n",
            "Oswaldo Duarte Miranda\n",
            "JCN de Araujo\n",
            "Odylio D Aguiar\n",
            "Annika Kanckos\n",
            "Carlos HC Ribeiro\n",
            "Joubert de Castro Lima\n",
            "Ekaterina Lebedeva\n",
            "Herman Geuvers\n"
          ]
        }
      ]
    }
  ],
  "metadata": {
    "colab": {
      "provenance": [],
      "include_colab_link": true
    },
    "kernelspec": {
      "display_name": "Python 3",
      "name": "python3"
    }
  },
  "nbformat": 4,
  "nbformat_minor": 0
}